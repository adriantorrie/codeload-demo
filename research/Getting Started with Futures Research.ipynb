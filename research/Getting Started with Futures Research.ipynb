{
 "cells": [
  {
   "cell_type": "markdown",
   "metadata": {},
   "source": [
    "# Getting Started with Futures: Research Notebooks"
   ]
  },
  {
   "cell_type": "markdown",
   "metadata": {},
   "source": [
    "*This example notebook is part of QuantRocket's [Getting Started with Futures](https://www.quantrocket.com/tutorials/futures/) tutorial series.*\n",
    "\n",
    "*The notebook assumes that you've already created a historical price database called \"demo-fut-1min\". Please refer to the tutorial series if you haven't completed this step.*"
   ]
  },
  {
   "cell_type": "markdown",
   "metadata": {},
   "source": [
    "Before diving into a backtest it's often helpful to explore your data in a notebook. In this notebook you'll learn how query your historical futures data and will also learn about how futures rollovers and continuous contracts work in QuantRocket."
   ]
  },
  {
   "cell_type": "markdown",
   "metadata": {},
   "source": [
    "## A very brief intro to Jupyter notebooks for total beginners\n",
    "*Skip this section if you're familiar with Jupyter notebooks.*\n",
    "\n",
    "Jupyter notebooks are interactive documents that let you write and execute code and run visualizations alongside narrative text. They are great tools for quantitative research.\n",
    "\n",
    "Quick demo:\n",
    "\n",
    "* place your mouse in this cell to highlight it\n",
    "* On the top menu, click the \"+\" icon to create a new cell below this one.\n",
    "* In the new cell, type:\n",
    "    \n",
    "    > `print(\"1 + 1 is the same as\", 1+1)`\n",
    "\n",
    "\n",
    "* Press \"SHIFT+ENTER\" to execute the cell (or select Cell > Run Cells from the top menu).\n",
    "* place your mouse in the cell just executed to highlight, then click the \"+\" icon to create another new cell\n",
    "* Change the dropdown selector in the top menu from \"Code\" to \"Markdown\"\n",
    "* In the new cell, type:\n",
    "\n",
    "    > `Jupyter notebooks are **fantastic**`\n",
    "\n",
    "\n",
    "* Press \"SHIFT+ENTER\" (Cell > Run Cells) to execute the cell and render the Markdown.\n",
    "\n",
    "Now that you know the basics of Jupyter notebooks, work through the remainder of this notebook by running the code cells to execute them in real-time using your data (optionally editing the code before you execute it). \n",
    "\n",
    "### End of very brief intro"
   ]
  },
  {
   "cell_type": "code",
   "execution_count": 1,
   "metadata": {},
   "outputs": [
    {
     "name": "stdout",
     "output_type": "stream",
     "text": [
      "Populating the interactive namespace from numpy and matplotlib\n"
     ]
    }
   ],
   "source": [
    "%pylab inline --no-import-all\n",
    "import warnings\n",
    "warnings.filterwarnings('ignore')"
   ]
  },
  {
   "cell_type": "code",
   "execution_count": 2,
   "metadata": {},
   "outputs": [],
   "source": [
    "import pandas as pd\n",
    "from quantrocket.history import download_history_file\n",
    "import io"
   ]
  },
  {
   "cell_type": "markdown",
   "metadata": {},
   "source": [
    "First, download a CSV of your historical data. We use `io.StringIO` to write the data to an in-memory file."
   ]
  },
  {
   "cell_type": "code",
   "execution_count": 3,
   "metadata": {
    "collapsed": true
   },
   "outputs": [],
   "source": [
    "f = io.StringIO()\n",
    "download_history_file(\"demo-fut-1min\", f, fields=[\"Close\", \"Volume\"])"
   ]
  },
  {
   "cell_type": "markdown",
   "metadata": {},
   "source": [
    "Next, load the historical data into pandas."
   ]
  },
  {
   "cell_type": "code",
   "execution_count": 4,
   "metadata": {},
   "outputs": [
    {
     "data": {
      "text/html": [
       "<div>\n",
       "<style>\n",
       "    .dataframe thead tr:only-child th {\n",
       "        text-align: right;\n",
       "    }\n",
       "\n",
       "    .dataframe thead th {\n",
       "        text-align: left;\n",
       "    }\n",
       "\n",
       "    .dataframe tbody tr th {\n",
       "        vertical-align: top;\n",
       "    }\n",
       "</style>\n",
       "<table border=\"1\" class=\"dataframe\">\n",
       "  <thead>\n",
       "    <tr style=\"text-align: right;\">\n",
       "      <th></th>\n",
       "      <th>ConId</th>\n",
       "      <th>247950613</th>\n",
       "      <th>258973438</th>\n",
       "      <th>269745169</th>\n",
       "      <th>279396694</th>\n",
       "      <th>289128563</th>\n",
       "      <th>299552802</th>\n",
       "    </tr>\n",
       "    <tr>\n",
       "      <th></th>\n",
       "      <th>Date</th>\n",
       "      <th></th>\n",
       "      <th></th>\n",
       "      <th></th>\n",
       "      <th></th>\n",
       "      <th></th>\n",
       "      <th></th>\n",
       "    </tr>\n",
       "  </thead>\n",
       "  <tbody>\n",
       "    <tr>\n",
       "      <th rowspan=\"5\" valign=\"top\">Close</th>\n",
       "      <th>2017-10-31 13:30:00</th>\n",
       "      <td>2572.50</td>\n",
       "      <td>NaN</td>\n",
       "      <td>NaN</td>\n",
       "      <td>NaN</td>\n",
       "      <td>NaN</td>\n",
       "      <td>NaN</td>\n",
       "    </tr>\n",
       "    <tr>\n",
       "      <th>2017-10-31 13:31:00</th>\n",
       "      <td>2572.25</td>\n",
       "      <td>NaN</td>\n",
       "      <td>NaN</td>\n",
       "      <td>NaN</td>\n",
       "      <td>NaN</td>\n",
       "      <td>NaN</td>\n",
       "    </tr>\n",
       "    <tr>\n",
       "      <th>2017-10-31 13:32:00</th>\n",
       "      <td>2572.50</td>\n",
       "      <td>NaN</td>\n",
       "      <td>NaN</td>\n",
       "      <td>NaN</td>\n",
       "      <td>NaN</td>\n",
       "      <td>NaN</td>\n",
       "    </tr>\n",
       "    <tr>\n",
       "      <th>2017-10-31 13:33:00</th>\n",
       "      <td>2572.00</td>\n",
       "      <td>NaN</td>\n",
       "      <td>NaN</td>\n",
       "      <td>NaN</td>\n",
       "      <td>NaN</td>\n",
       "      <td>NaN</td>\n",
       "    </tr>\n",
       "    <tr>\n",
       "      <th>2017-10-31 13:34:00</th>\n",
       "      <td>2571.50</td>\n",
       "      <td>NaN</td>\n",
       "      <td>NaN</td>\n",
       "      <td>NaN</td>\n",
       "      <td>NaN</td>\n",
       "      <td>NaN</td>\n",
       "    </tr>\n",
       "  </tbody>\n",
       "</table>\n",
       "</div>"
      ],
      "text/plain": [
       "ConId                      247950613  258973438  269745169  279396694  \\\n",
       "      Date                                                              \n",
       "Close 2017-10-31 13:30:00    2572.50        NaN        NaN        NaN   \n",
       "      2017-10-31 13:31:00    2572.25        NaN        NaN        NaN   \n",
       "      2017-10-31 13:32:00    2572.50        NaN        NaN        NaN   \n",
       "      2017-10-31 13:33:00    2572.00        NaN        NaN        NaN   \n",
       "      2017-10-31 13:34:00    2571.50        NaN        NaN        NaN   \n",
       "\n",
       "ConId                      289128563  299552802  \n",
       "      Date                                       \n",
       "Close 2017-10-31 13:30:00        NaN        NaN  \n",
       "      2017-10-31 13:31:00        NaN        NaN  \n",
       "      2017-10-31 13:32:00        NaN        NaN  \n",
       "      2017-10-31 13:33:00        NaN        NaN  \n",
       "      2017-10-31 13:34:00        NaN        NaN  "
      ]
     },
     "execution_count": 4,
     "metadata": {},
     "output_type": "execute_result"
    }
   ],
   "source": [
    "prices = pd.read_csv(f, parse_dates=[\"Date\"])\n",
    "# This one-liner uses `pivot` and `T` (transpose) to reshape the data\n",
    "# such that the columns are securities (represented by ConIds) and the\n",
    "# index is a two-level index of (Field, Date). \n",
    "prices = prices.pivot(index=\"ConId\", columns=\"Date\").T\n",
    "prices.head()"
   ]
  },
  {
   "cell_type": "markdown",
   "metadata": {},
   "source": [
    "Our DataFrame contains a column for each futures expiry (represented by contract IDs) and a row for each minute. Let's plot the daily trading volume for each expiry to see which contracts have the most activity over time. First, aggregate the minutely volumes to daily volumes: "
   ]
  },
  {
   "cell_type": "code",
   "execution_count": 5,
   "metadata": {},
   "outputs": [
    {
     "data": {
      "text/html": [
       "<div>\n",
       "<style>\n",
       "    .dataframe thead tr:only-child th {\n",
       "        text-align: right;\n",
       "    }\n",
       "\n",
       "    .dataframe thead th {\n",
       "        text-align: left;\n",
       "    }\n",
       "\n",
       "    .dataframe tbody tr th {\n",
       "        vertical-align: top;\n",
       "    }\n",
       "</style>\n",
       "<table border=\"1\" class=\"dataframe\">\n",
       "  <thead>\n",
       "    <tr style=\"text-align: right;\">\n",
       "      <th>ConId</th>\n",
       "      <th>247950613</th>\n",
       "      <th>258973438</th>\n",
       "      <th>269745169</th>\n",
       "      <th>279396694</th>\n",
       "      <th>289128563</th>\n",
       "      <th>299552802</th>\n",
       "    </tr>\n",
       "  </thead>\n",
       "  <tbody>\n",
       "    <tr>\n",
       "      <th>2017-10-31</th>\n",
       "      <td>925465.0</td>\n",
       "      <td>NaN</td>\n",
       "      <td>NaN</td>\n",
       "      <td>NaN</td>\n",
       "      <td>NaN</td>\n",
       "      <td>NaN</td>\n",
       "    </tr>\n",
       "    <tr>\n",
       "      <th>2017-11-01</th>\n",
       "      <td>1071277.0</td>\n",
       "      <td>493.0</td>\n",
       "      <td>18.0</td>\n",
       "      <td>0.0</td>\n",
       "      <td>NaN</td>\n",
       "      <td>NaN</td>\n",
       "    </tr>\n",
       "    <tr>\n",
       "      <th>2017-11-02</th>\n",
       "      <td>1069127.0</td>\n",
       "      <td>1295.0</td>\n",
       "      <td>6.0</td>\n",
       "      <td>NaN</td>\n",
       "      <td>NaN</td>\n",
       "      <td>NaN</td>\n",
       "    </tr>\n",
       "    <tr>\n",
       "      <th>2017-11-03</th>\n",
       "      <td>827310.0</td>\n",
       "      <td>1236.0</td>\n",
       "      <td>43.0</td>\n",
       "      <td>2.0</td>\n",
       "      <td>NaN</td>\n",
       "      <td>NaN</td>\n",
       "    </tr>\n",
       "    <tr>\n",
       "      <th>2017-11-06</th>\n",
       "      <td>671239.0</td>\n",
       "      <td>225.0</td>\n",
       "      <td>12.0</td>\n",
       "      <td>0.0</td>\n",
       "      <td>NaN</td>\n",
       "      <td>NaN</td>\n",
       "    </tr>\n",
       "  </tbody>\n",
       "</table>\n",
       "</div>"
      ],
      "text/plain": [
       "ConId       247950613  258973438  269745169  279396694  289128563  299552802\n",
       "2017-10-31   925465.0        NaN        NaN        NaN        NaN        NaN\n",
       "2017-11-01  1071277.0      493.0       18.0        0.0        NaN        NaN\n",
       "2017-11-02  1069127.0     1295.0        6.0        NaN        NaN        NaN\n",
       "2017-11-03   827310.0     1236.0       43.0        2.0        NaN        NaN\n",
       "2017-11-06   671239.0      225.0       12.0        0.0        NaN        NaN"
      ]
     },
     "execution_count": 5,
     "metadata": {},
     "output_type": "execute_result"
    }
   ],
   "source": [
    "minute_volumes = prices.loc[\"Volume\"]\n",
    "\n",
    "daily_volumes = minute_volumes.groupby(minute_volumes.index.date).sum()\n",
    "daily_volumes.head()"
   ]
  },
  {
   "cell_type": "markdown",
   "metadata": {},
   "source": [
    "Then plot the data:"
   ]
  },
  {
   "cell_type": "code",
   "execution_count": 6,
   "metadata": {},
   "outputs": [
    {
     "data": {
      "text/plain": [
       "<matplotlib.axes._subplots.AxesSubplot at 0x7f6ee6fe7a90>"
      ]
     },
     "execution_count": 6,
     "metadata": {},
     "output_type": "execute_result"
    },
    {
     "data": {
      "image/png": "[encoded data removed]",
      "text/plain": [
       "<matplotlib.figure.Figure at 0x7f6ef063d6d8>"
      ]
     },
     "metadata": {},
     "output_type": "display_data"
    }
   ],
   "source": [
    "daily_volumes.plot()"
   ]
  },
  {
   "cell_type": "markdown",
   "metadata": {
    "collapsed": true
   },
   "source": [
    "Assuming your data spans one or more rollover dates, you should be able to see as the trading volume shifts from one contract to the next."
   ]
  },
  {
   "cell_type": "markdown",
   "metadata": {},
   "source": [
    "## Rollover Rules ##\n",
    "\n",
    "Each futures expiry is stored in your securities master database and price history databases as a separate contract. You can define rollover rules for the futures contracts you trade, and QuantRocket will automatically calculate the rollover date for each expiry and store it in the securities master database. Your rollover rules are used to determine the front month contract when stitching together continuous futures contracts and when automating position rollover. (Note that your rollover rules are not used by Zipline as it handles futures rollover internally.)\n",
    "\n",
    "The demo repository ships with a [rollover rules configuration file](/jupyter/edit/quantrocket.master.rollover.yml) which you can edit as desired. When you query futures contracts from the securities master service, you will see your rollover rules reflected in the `RolloverDate` field.   "
   ]
  },
  {
   "cell_type": "code",
   "execution_count": 7,
   "metadata": {
    "collapsed": true
   },
   "outputs": [],
   "source": [
    "from quantrocket.master import download_master_file"
   ]
  },
  {
   "cell_type": "code",
   "execution_count": 8,
   "metadata": {
    "collapsed": true
   },
   "outputs": [],
   "source": [
    "f = io.StringIO()\n",
    "download_master_file(\n",
    "    f, universes=[\"demo-fut\"], \n",
    "    fields=[\"Symbol\", \"LocalSymbol\", \"PrimaryExchange\", \"LastTradeDate\", \"RolloverDate\"])"
   ]
  },
  {
   "cell_type": "code",
   "execution_count": 9,
   "metadata": {},
   "outputs": [
    {
     "data": {
      "text/html": [
       "<div>\n",
       "<style>\n",
       "    .dataframe thead tr:only-child th {\n",
       "        text-align: right;\n",
       "    }\n",
       "\n",
       "    .dataframe thead th {\n",
       "        text-align: left;\n",
       "    }\n",
       "\n",
       "    .dataframe tbody tr th {\n",
       "        vertical-align: top;\n",
       "    }\n",
       "</style>\n",
       "<table border=\"1\" class=\"dataframe\">\n",
       "  <thead>\n",
       "    <tr style=\"text-align: right;\">\n",
       "      <th></th>\n",
       "      <th>ConId</th>\n",
       "      <th>Symbol</th>\n",
       "      <th>LocalSymbol</th>\n",
       "      <th>PrimaryExchange</th>\n",
       "      <th>LastTradeDate</th>\n",
       "      <th>RolloverDate</th>\n",
       "    </tr>\n",
       "  </thead>\n",
       "  <tbody>\n",
       "    <tr>\n",
       "      <th>0</th>\n",
       "      <td>156974384</td>\n",
       "      <td>ES</td>\n",
       "      <td>ESU5</td>\n",
       "      <td>GLOBEX</td>\n",
       "      <td>2015-09-18</td>\n",
       "      <td>2015-09-10</td>\n",
       "    </tr>\n",
       "    <tr>\n",
       "      <th>1</th>\n",
       "      <td>167205842</td>\n",
       "      <td>ES</td>\n",
       "      <td>ESZ5</td>\n",
       "      <td>GLOBEX</td>\n",
       "      <td>2015-12-18</td>\n",
       "      <td>2015-12-10</td>\n",
       "    </tr>\n",
       "    <tr>\n",
       "      <th>2</th>\n",
       "      <td>177525433</td>\n",
       "      <td>ES</td>\n",
       "      <td>ESH6</td>\n",
       "      <td>GLOBEX</td>\n",
       "      <td>2016-03-18</td>\n",
       "      <td>2016-03-10</td>\n",
       "    </tr>\n",
       "    <tr>\n",
       "      <th>3</th>\n",
       "      <td>187532577</td>\n",
       "      <td>ES</td>\n",
       "      <td>ESM6</td>\n",
       "      <td>GLOBEX</td>\n",
       "      <td>2016-06-17</td>\n",
       "      <td>2016-06-09</td>\n",
       "    </tr>\n",
       "    <tr>\n",
       "      <th>4</th>\n",
       "      <td>197307551</td>\n",
       "      <td>ES</td>\n",
       "      <td>ESU6</td>\n",
       "      <td>GLOBEX</td>\n",
       "      <td>2016-09-16</td>\n",
       "      <td>2016-09-08</td>\n",
       "    </tr>\n",
       "  </tbody>\n",
       "</table>\n",
       "</div>"
      ],
      "text/plain": [
       "       ConId Symbol LocalSymbol PrimaryExchange LastTradeDate RolloverDate\n",
       "0  156974384     ES        ESU5          GLOBEX    2015-09-18   2015-09-10\n",
       "1  167205842     ES        ESZ5          GLOBEX    2015-12-18   2015-12-10\n",
       "2  177525433     ES        ESH6          GLOBEX    2016-03-18   2016-03-10\n",
       "3  187532577     ES        ESM6          GLOBEX    2016-06-17   2016-06-09\n",
       "4  197307551     ES        ESU6          GLOBEX    2016-09-16   2016-09-08"
      ]
     },
     "execution_count": 9,
     "metadata": {},
     "output_type": "execute_result"
    }
   ],
   "source": [
    "contracts = pd.read_csv(f, parse_dates=[\"LastTradeDate\", \"RolloverDate\"])\n",
    "contracts.head()"
   ]
  },
  {
   "cell_type": "markdown",
   "metadata": {},
   "source": [
    "## Continuous Futures ##\n",
    "\n",
    "When you query historical futures data, by default each futures expiry is returned separately. You can optionally use the `cont_fut` argument to instruct QuantRocket to join individual expiries into a continuous contract when you query your historical futures data. At the time of this writing, the only supported value for `cont_fut` is `\"concat\"`, which concatenates the contracts on the rollover dates without any price adjustments. In the future, other joining algorithms will be added. "
   ]
  },
  {
   "cell_type": "code",
   "execution_count": 10,
   "metadata": {
    "collapsed": true
   },
   "outputs": [],
   "source": [
    "f = io.StringIO()\n",
    "download_history_file(\"demo-fut-1min\", f, fields=[\"Close\"], cont_fut=\"concat\")"
   ]
  },
  {
   "cell_type": "markdown",
   "metadata": {},
   "source": [
    "The resulting DataFrame contains a single column, whose ConId corresponds to the ConId of the current front-month contract. \n",
    "\n",
    "(Note that `cont_fut` also works properly when the query includes multiple futures underlyings, or a mix of futures and other security types.)"
   ]
  },
  {
   "cell_type": "code",
   "execution_count": 11,
   "metadata": {},
   "outputs": [
    {
     "data": {
      "text/html": [
       "<div>\n",
       "<style>\n",
       "    .dataframe thead tr:only-child th {\n",
       "        text-align: right;\n",
       "    }\n",
       "\n",
       "    .dataframe thead th {\n",
       "        text-align: left;\n",
       "    }\n",
       "\n",
       "    .dataframe tbody tr th {\n",
       "        vertical-align: top;\n",
       "    }\n",
       "</style>\n",
       "<table border=\"1\" class=\"dataframe\">\n",
       "  <thead>\n",
       "    <tr style=\"text-align: right;\">\n",
       "      <th></th>\n",
       "      <th>ConId</th>\n",
       "      <th>258973438</th>\n",
       "    </tr>\n",
       "    <tr>\n",
       "      <th></th>\n",
       "      <th>Date</th>\n",
       "      <th></th>\n",
       "    </tr>\n",
       "  </thead>\n",
       "  <tbody>\n",
       "    <tr>\n",
       "      <th rowspan=\"5\" valign=\"top\">Close</th>\n",
       "      <th>2017-10-31 13:30:00</th>\n",
       "      <td>2572.50</td>\n",
       "    </tr>\n",
       "    <tr>\n",
       "      <th>2017-10-31 13:31:00</th>\n",
       "      <td>2572.25</td>\n",
       "    </tr>\n",
       "    <tr>\n",
       "      <th>2017-10-31 13:32:00</th>\n",
       "      <td>2572.50</td>\n",
       "    </tr>\n",
       "    <tr>\n",
       "      <th>2017-10-31 13:33:00</th>\n",
       "      <td>2572.00</td>\n",
       "    </tr>\n",
       "    <tr>\n",
       "      <th>2017-10-31 13:34:00</th>\n",
       "      <td>2571.50</td>\n",
       "    </tr>\n",
       "  </tbody>\n",
       "</table>\n",
       "</div>"
      ],
      "text/plain": [
       "ConId                      258973438\n",
       "      Date                          \n",
       "Close 2017-10-31 13:30:00    2572.50\n",
       "      2017-10-31 13:31:00    2572.25\n",
       "      2017-10-31 13:32:00    2572.50\n",
       "      2017-10-31 13:33:00    2572.00\n",
       "      2017-10-31 13:34:00    2571.50"
      ]
     },
     "execution_count": 11,
     "metadata": {},
     "output_type": "execute_result"
    }
   ],
   "source": [
    "prices = pd.read_csv(f, parse_dates=[\"Date\"])\n",
    "prices = prices.pivot(index=\"ConId\", columns=\"Date\").T\n",
    "prices.head()"
   ]
  },
  {
   "cell_type": "markdown",
   "metadata": {},
   "source": [
    "For now, let's simply plot the closing prices of our continuous contract."
   ]
  },
  {
   "cell_type": "code",
   "execution_count": 12,
   "metadata": {},
   "outputs": [
    {
     "data": {
      "text/plain": [
       "<matplotlib.axes._subplots.AxesSubplot at 0x7f6ee7d53940>"
      ]
     },
     "execution_count": 12,
     "metadata": {},
     "output_type": "execute_result"
    },
    {
     "data": {
      "image/png": "[encoded data removed]",
      "text/plain": [
       "<matplotlib.figure.Figure at 0x7f6ee7de5f98>"
      ]
     },
     "metadata": {},
     "output_type": "display_data"
    }
   ],
   "source": [
    "closes = prices.loc[\"Close\"]\n",
    "closes.plot()"
   ]
  },
  {
   "cell_type": "markdown",
   "metadata": {},
   "source": [
    "## Next steps\n",
    "\n",
    "Now that you learned about querying and analyzing your futures data in a research notebook, you can continue with the [Getting Started with Futures](https://www.quantrocket.com/tutorials/futures/) tutorials and learn how to run backtests."
   ]
  },
  {
   "cell_type": "code",
   "execution_count": null,
   "metadata": {
    "collapsed": true
   },
   "outputs": [],
   "source": []
  }
 ],
 "metadata": {
  "kernelspec": {
   "display_name": "Python 3",
   "language": "python",
   "name": "python3"
  },
  "language_info": {
   "codemirror_mode": {
    "name": "ipython",
    "version": 3
   },
   "file_extension": ".py",
   "mimetype": "text/x-python",
   "name": "python",
   "nbconvert_exporter": "python",
   "pygments_lexer": "ipython3",
   "version": "3.6.1"
  }
 },
 "nbformat": 4,
 "nbformat_minor": 1
}
